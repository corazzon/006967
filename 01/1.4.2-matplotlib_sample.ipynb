{
 "cells": [
  {
   "cell_type": "code",
   "execution_count": 1,
   "metadata": {},
   "outputs": [],
   "source": [
    "# 각 방정식을 설정하기 위한 NumPy를 임포트\n",
    "import numpy as np\n",
    "# matplotlib의 pyplot를 plt로 임포트\n",
    "import matplotlib.pyplot as plt\n",
    "\n",
    "# 노트북 안에 그래프가 표시되도록\n",
    "%matplotlib inline\n",
    "\n",
    "# 한글폰트 사용 시 그래프에서 마이너스 폰트 깨지는 문제에 대한 대처\n",
    "plt.rcParams['axes.unicode_minus'] = False"
   ]
  },
  {
   "cell_type": "code",
   "execution_count": 2,
   "metadata": {},
   "outputs": [
    {
     "name": "stdout",
     "output_type": "stream",
     "text": [
      "(100,)\n",
      "(100,)\n",
      "[-0.76996605  2.80220906  2.76506515 -0.70893938 -0.84406137]\n",
      "[ 1.82066666 -2.25164419 -1.70416222 -2.75813227  2.44535045]\n"
     ]
    }
   ],
   "source": [
    "# x축의 영역과 정밀도를 설정하고 x 값을 준비\n",
    "x = np.arange( -3, 3, 0.1 )\n",
    "# 각 방정식의 y 값을 준비\n",
    "y_sin = np.sin( x )\n",
    "x_rand = np.random.rand(100) * 6 - 3\n",
    "y_rand = np.random.rand(100) * 6 - 3\n",
    "print(x_rand.shape)\n",
    "print(y_rand.shape)\n",
    "print(x_rand[:5])\n",
    "print(y_rand[:5])"
   ]
  },
  {
   "cell_type": "code",
   "execution_count": 3,
   "metadata": {},
   "outputs": [
    {
     "data": {
      "image/png": "[encoded data removed]",
      "text/plain": [
       "<matplotlib.figure.Figure at 0x10f7bb5f8>"
      ]
     },
     "metadata": {},
     "output_type": "display_data"
    }
   ],
   "source": [
    "# figure 객체를 생성\n",
    "plt.figure()\n",
    "\n",
    "# 1개의 그래프로 표시하는 설정\n",
    "plt.subplot( 1, 1, 1 )\n",
    "\n",
    "# 각 방정식의 선형과 마커, 라벨을 설정하고 플롯\n",
    "## 선형도\n",
    "plt.plot( x, y_sin, marker='o', markersize=5, label='line' )\n",
    "\n",
    "## 산포도\n",
    "plt.scatter( x_rand, y_rand, label='scatter' )\n",
    "\n",
    "# 범례 표시를 설정\n",
    "plt.legend()\n",
    "# 그리드 라인을 표시\n",
    "plt.grid( True )\n",
    "\n",
    "# 그래프 표시\n",
    "plt.show()"
   ]
  },
  {
   "cell_type": "code",
   "execution_count": null,
   "metadata": {},
   "outputs": [],
   "source": []
  }
 ],
 "metadata": {
  "kernelspec": {
   "display_name": "Python 3",
   "language": "python",
   "name": "python3"
  },
  "language_info": {
   "codemirror_mode": {
    "name": "ipython",
    "version": 3
   },
   "file_extension": ".py",
   "mimetype": "text/x-python",
   "name": "python",
   "nbconvert_exporter": "python",
   "pygments_lexer": "ipython3",
   "version": "3.6.1"
  }
 },
 "nbformat": 4,
 "nbformat_minor": 2
}
